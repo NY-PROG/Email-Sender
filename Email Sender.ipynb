{
 "cells": [
  {
   "cell_type": "code",
   "execution_count": null,
   "metadata": {},
   "outputs": [],
   "source": [
    "import smtplib\n",
    "from email.mime.multipart import MIMEMultipart\n",
    "from email.mime.text import MIMEText\n",
    "\n",
    "# Setting up SMTP\n",
    "smtp_server = \"smtp.sina.com\"  # using sina email server\n",
    "smtp_port = 465  # SSL\n",
    "sender_email = \"xx@sina.com\"  \n",
    "sender_password = \"xx\"  #verification code\n",
    "\n",
    "# Receiver\n",
    "receiver_emails = [\"aa@gmail.com\",\"bb@gmail.com\",\"cc@gmail.com\"]\n",
    "\n",
    "# Email Content\n",
    "subject = \"Hi\"\n",
    "body = \"This email has been sent using Python\"\n",
    "\n",
    "# SMTP_SSL\n",
    "server = smtplib.SMTP_SSL(smtp_server, smtp_port)  \n",
    "server.login(sender_email, sender_password)  \n",
    "\n",
    "for receiver_email in receiver_emails:\n",
    "    \n",
    "    msg = MIMEMultipart()\n",
    "    msg['From'] = sender_email\n",
    "    msg['To'] = receiver_email\n",
    "    msg['Subject'] = subject\n",
    "\n",
    "    \n",
    "    msg.attach(MIMEText(body, 'plain'))\n",
    "\n",
    "   \n",
    "    try:\n",
    "        server.sendmail(sender_email, receiver_email, msg.as_string())\n",
    "        print(f\"Email sent to {receiver_email}\")\n",
    "    except Exception as e:\n",
    "        print(f\"Failed to send email to {receiver_email}: {e}\")\n",
    "\n",
    "\n",
    "server.quit()\n",
    "\n"
   ]
  }
 ],
 "metadata": {
  "kernelspec": {
   "display_name": "Python 3",
   "language": "python",
   "name": "python3"
  },
  "language_info": {
   "codemirror_mode": {
    "name": "ipython",
    "version": 3
   },
   "file_extension": ".py",
   "mimetype": "text/x-python",
   "name": "python",
   "nbconvert_exporter": "python",
   "pygments_lexer": "ipython3",
   "version": "3.8.5"
  }
 },
 "nbformat": 4,
 "nbformat_minor": 4
}
